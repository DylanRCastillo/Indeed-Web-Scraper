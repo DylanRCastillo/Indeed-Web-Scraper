{
 "cells": [
  {
   "cell_type": "code",
   "execution_count": null,
   "metadata": {},
   "outputs": [],
   "source": [
    "import requests\n",
    "from bs4 import BeautifulSoup\n",
    "import pandas as pd\n",
    "import datetime\n",
    "import csv"
   ]
  },
  {
   "cell_type": "code",
   "execution_count": null,
   "metadata": {},
   "outputs": [],
   "source": [
    "def extract(page):\n",
    "    '''Call this function first'''\n",
    "    headers = {'User-Agent':'Mozilla/5.0 (Windows NT 10.0; Win64; x64) AppleWebKit/537.36 (KHTML, like Gecko) Chrome/97.0.4692.71 Safari/537.36'}\n",
    "    if page == 0:\n",
    "        url = 'https://www.indeed.com/jobs?q=data+analyst&jt=fulltime&explvl=entry_level&fromage=7'\n",
    "    else:\n",
    "        url = f'https://www.indeed.com/jobs?q=data+analyst&jt=fulltime&explvl=entry_level&fromage=7&start={page}'\n",
    "    \n",
    "    response = requests.get(url,headers)\n",
    "    soup = BeautifulSoup(response.content, 'html.parser')\n",
    "\n",
    "    return soup\n",
    "\n",
    "def extract_expand(href_list):\n"
   ]
  },
  {
   "cell_type": "code",
   "execution_count": null,
   "metadata": {},
   "outputs": [],
   "source": [
    "def transform(soup):\n",
    "    '''This function second'''\n",
    "    divs = soup.find_all('div', class_='mosaic-zone', id=\"mosaic-zone-jobcards\")\n",
    "    for item in divs:\n",
    "        urls = item.find_all('a', id=True, class_=True, href=True)\n",
    "        for href in urls:\n",
    "            href_list.append(href['href'])\n",
    "    return\n",
    "\n",
    "def transform_expand(soup, href):\n",
    "    '''This one should be called in the extract_expand func'''\n",
    "    \n",
    "    \n",
    "    for item in divs:\n",
    "        title = item.find('h1').text\n",
    "        company = item.find('div', class_='icl-u-lg-mr--sm icl-u-xs-mr--xs').text\n",
    "        try:\n",
    "            qualifications = item.find('div', id='qualificationsSection').text.split('Qualifications')[1]\n",
    "        except:\n",
    "            qualifications = ''\n",
    "        \n",
    "        website = 'www.indeed.com' + href\n",
    "\n",
    "        job_list.append(job_description)\n",
    "    return"
   ]
  },
  {
   "cell_type": "code",
   "execution_count": 38,
   "metadata": {},
   "outputs": [],
   "source": [
    "headers = {'User-Agent':'Mozilla/5.0 (Windows NT 10.0; Win64; x64) AppleWebKit/537.36 (KHTML, like Gecko) Chrome/97.0.4692.71 Safari/537.36'}\n",
    "\n",
    "url = f'https://www.indeed.com/viewjob?jk=13cc08b7afa9afb5&from=mobRdr&utm_source=%2Fm%2F&utm_medium=redir&utm_campaign=dt'\n",
    "response = requests.get(url,headers)\n",
    "soup = BeautifulSoup(response.content, 'html.parser')\n",
    "\n",
    "div = soup.find('div', class_='icl-Container--fluid fs-unmask jobsearch-ViewJobLayout-fluidContainer is-US icl-u-xs-p--sm')\n",
    "job_description = div.find('div', id='jobDescriptionText', class_='jobsearch-jobDescriptionText')\n",
    "\n",
    "p_list = []\n",
    "li_list = []\n",
    "title = div.find('h1').text\n",
    "company = div.find('div', class_='icl-u-lg-mr--sm icl-u-xs-mr--xs').text\n",
    "for p_tags in job_description.find_all('p'):\n",
    "    p_list.append(p_tags.text)\n",
    "for li_tags in job_description.find_all('li'):\n",
    "    li_list.append(li_tags.text)\n",
    "joined_list = p_list + li_list\n",
    "string = ' '.join(map(str, joined_list))\n",
    "\n",
    "job = {\n",
    "    'job_title': title,\n",
    "    'company': company,\n",
    "    'job_description': string,\n",
    "    'url': url\n",
    "}"
   ]
  },
  {
   "cell_type": "code",
   "execution_count": 43,
   "metadata": {},
   "outputs": [
    {
     "data": {
      "text/html": [
       "<div>\n",
       "<style scoped>\n",
       "    .dataframe tbody tr th:only-of-type {\n",
       "        vertical-align: middle;\n",
       "    }\n",
       "\n",
       "    .dataframe tbody tr th {\n",
       "        vertical-align: top;\n",
       "    }\n",
       "\n",
       "    .dataframe thead th {\n",
       "        text-align: right;\n",
       "    }\n",
       "</style>\n",
       "<table border=\"1\" class=\"dataframe\">\n",
       "  <thead>\n",
       "    <tr style=\"text-align: right;\">\n",
       "      <th></th>\n",
       "      <th>job_title</th>\n",
       "      <th>company</th>\n",
       "      <th>job_description</th>\n",
       "      <th>url</th>\n",
       "    </tr>\n",
       "  </thead>\n",
       "  <tbody>\n",
       "    <tr>\n",
       "      <th>0</th>\n",
       "      <td>Jr. Data Analyst</td>\n",
       "      <td>Ignite Tek</td>\n",
       "      <td>The Researcher / Junior Strategist (RJS) perfo...</td>\n",
       "      <td>https://www.indeed.com/viewjob?jk=13cc08b7afa9...</td>\n",
       "    </tr>\n",
       "  </tbody>\n",
       "</table>\n",
       "</div>"
      ],
      "text/plain": [
       "          job_title     company  \\\n",
       "0  Jr. Data Analyst  Ignite Tek   \n",
       "\n",
       "                                     job_description  \\\n",
       "0  The Researcher / Junior Strategist (RJS) perfo...   \n",
       "\n",
       "                                                 url  \n",
       "0  https://www.indeed.com/viewjob?jk=13cc08b7afa9...  "
      ]
     },
     "execution_count": 43,
     "metadata": {},
     "output_type": "execute_result"
    }
   ],
   "source": [
    "df = pd.DataFrame(job, index=[0])\n",
    "df"
   ]
  },
  {
   "cell_type": "code",
   "execution_count": 44,
   "metadata": {},
   "outputs": [
    {
     "name": "stdout",
     "output_type": "stream",
     "text": [
      "The Researcher / Junior Strategist (RJS) performs; qualitative and quantitative research, develops front end reports (data visualization), and supports the development of strategic business solutions that optimize client profit margins. Tasks are on an ongoing and project basis. Accountable to understand, disaggregate and prioritize research and information needs to drive decision making from all marketing sources available. These marketing sources may include but are not limited to, Customer service calls, Outbound calls, Sales calls, Social media channels, online reviews, emails, live chat, customer surveys and more to unify and provide a comprehensive understanding of the underlying opportunities for the brand and customer base. Job Functions:  Skills:  Knowledge using statistical software (R, Python, etc.) Advanced Microsoft Office (Excel, PPT, Word) Advanced data visualization techniques Job Type: Full-time Pay: $40,000.00 - $45,000.00 per year Benefits: Schedule: Supplemental Pay: COVID-19 considerations:No Application Question(s): Education: Experience: Work Location: Remote Ensures clients and our company are aligned on key performance metrics, establishing realistic goals, and providing accountability through reporting Understand the structure and general business needs of the organization and recommends data driven solutions that enable the business to achieve goals and improve processes Collaborate on projects creating meaningful marketing solutions, supporting documents, and visual representation of data findings Manages deadlines and expectations for projects through regular communication Lead for data cleaning, standardization, governance, and best practices Text mining to identify patterns in qualitative data sets such as, finding early warning indicators in product development or shifts in customer sentiment Build predictive models using multiple types and sources of data Gather & test the accuracy of model data Post-hoc tests Explore new and under-utilized functionality within existing data analytics tools to streamline consumption and distribution of reporting and data Develop Q/A phases of a project lifecycle 401(k) Dental insurance Health insurance Life insurance Paid time off Vision insurance 8 hour shift Monday to Friday Commission pay Do you have experience with PowerBi? Bachelor's (Preferred) Business Analysis: 1 year (Preferred)\n"
     ]
    }
   ],
   "source": [
    "print(string)"
   ]
  },
  {
   "cell_type": "code",
   "execution_count": null,
   "metadata": {},
   "outputs": [],
   "source": []
  }
 ],
 "metadata": {
  "interpreter": {
   "hash": "54d617d372647ec335822863022694f50128820a9b9ee7841e3eee76c2b8638a"
  },
  "kernelspec": {
   "display_name": "Python 3.6.10 64-bit ('Project8': conda)",
   "language": "python",
   "name": "python3"
  },
  "language_info": {
   "codemirror_mode": {
    "name": "ipython",
    "version": 3
   },
   "file_extension": ".py",
   "mimetype": "text/x-python",
   "name": "python",
   "nbconvert_exporter": "python",
   "pygments_lexer": "ipython3",
   "version": "3.6.10"
  },
  "orig_nbformat": 4
 },
 "nbformat": 4,
 "nbformat_minor": 2
}
