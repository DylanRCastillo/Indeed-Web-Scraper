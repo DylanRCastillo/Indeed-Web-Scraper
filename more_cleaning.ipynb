{
 "cells": [
  {
   "cell_type": "code",
   "execution_count": 34,
   "metadata": {},
   "outputs": [],
   "source": [
    "import pandas as pd\n",
    "import nltk\n",
    "from nltk.corpus import stopwords\n",
    "from nltk.tokenize import word_tokenize\n",
    "import re\n",
    "import string"
   ]
  },
  {
   "cell_type": "code",
   "execution_count": 25,
   "metadata": {},
   "outputs": [],
   "source": [
    "filepath = 'indeed_jobs.csv'\n",
    "\n",
    "df = pd.read_csv(filepath, header=None)"
   ]
  },
  {
   "cell_type": "markdown",
   "metadata": {},
   "source": [
    "Cleaning out unnecessary symbols and words from text"
   ]
  },
  {
   "cell_type": "code",
   "execution_count": 26,
   "metadata": {},
   "outputs": [],
   "source": [
    "#Separate description from dataframe\n",
    "job_description = df[4]\n",
    "job_description = [item.lower() for item in job_description]\n",
    "single_job = job_description[1]"
   ]
  },
  {
   "cell_type": "code",
   "execution_count": 38,
   "metadata": {},
   "outputs": [
    {
     "data": {
      "text/plain": [
       "'the researcher  junior strategist rjs performs qualitative and quantitative research develops front end reports data visualization and supports the development of strategic business solutions that optimize client profit margins tasks are on an ongoing and project basis accountable to understand disaggregate and prioritize research and information needs to drive decision making from all marketing sources available these marketing sources may include but are not limited to customer service calls outbound calls sales calls social media channels online reviews emails live chat customer surveys and more to unify and provide a comprehensive understanding of the underlying opportunities for the brand and customer basejob functions ensures clients and our company are aligned on key performance metrics establishing realistic goals and providing accountability through reportingunderstand the structure and general business needs of the organization and recommends data driven solutions that enable the business to achieve goals and improve processescollaborate on projects creating meaningful marketing solutions supporting documents and visual representation of data findingsmanages deadlines and expectations for projects through regular communicationlead for data cleaning standardization governance and best practicestext mining to identify patterns in qualitative data sets such as finding early warning indicators in product development or shifts in customer sentimentbuild predictive models using multiple types and sources of datagather  test the accuracy of model dataposthoc testsexplore new and underutilized functionality within existing data analytics tools to streamline consumption and distribution of reporting and datadevelop qa phases of a project lifecycleskills knowledge using statistical software r python etcadvanced microsoft office excel ppt wordadvanced data visualization techniquesjob type fulltimepay 4000000  4500000 per yearbenefits401kdental insurancehealth insurancelife insurancepaid time offvision insuranceschedule8 hour shiftmonday to fridaysupplemental paycommission paycovid19 considerationsnoapplication questionsdo you have experience with powerbieducationbachelors preferredexperiencebusiness analysis 1 year preferredwork location remote'"
      ]
     },
     "execution_count": 38,
     "metadata": {},
     "output_type": "execute_result"
    }
   ],
   "source": [
    "#Remove market tickers\n",
    "text = re.sub(\"\\$\", \"\", single_job)\n",
    "text = text.replace(':', \" \")\n",
    "\n",
    "#Remove puncutation\n",
    "punct = set(string.punctuation)\n",
    "text = \"\".join([char for char in text if char not in punct])\n",
    "text"
   ]
  },
  {
   "cell_type": "code",
   "execution_count": 19,
   "metadata": {},
   "outputs": [
    {
     "name": "stdout",
     "output_type": "stream",
     "text": [
      "['researcher', '/', 'junior', 'strategist', '(', 'rjs', ')', 'performs', ';', 'qualitative', 'quantitative', 'research', ',', 'develops', 'front', 'end', 'reports', '(', 'data', 'visualization', ')', ',', 'supports', 'development', 'strategic', 'business', 'solutions', 'optimize', 'client', 'profit', 'margins', '.', 'tasks', 'ongoing', 'project', 'basis', '.', 'accountable', 'understand', ',', 'disaggregate', 'prioritize', 'research', 'information', 'needs', 'drive', 'decision', 'making', 'marketing', 'sources', 'available', '.', 'marketing', 'sources', 'may', 'include', 'limited', ',', 'customer', 'service', 'calls', ',', 'outbound', 'calls', ',', 'sales', 'calls', ',', 'social', 'media', 'channels', ',', 'online', 'reviews', ',', 'emails', ',', 'live', 'chat', ',', 'customer', 'surveys', 'unify', 'provide', 'comprehensive', 'understanding', 'underlying', 'opportunities', 'brand', 'customer', 'base.job', 'functions', ':', 'ensures', 'clients', 'company', 'aligned', 'key', 'performance', 'metrics', ',', 'establishing', 'realistic', 'goals', ',', 'providing', 'accountability', 'reportingunderstand', 'structure', 'general', 'business', 'needs', 'organization', 'recommends', 'data', 'driven', 'solutions', 'enable', 'business', 'achieve', 'goals', 'improve', 'processescollaborate', 'projects', 'creating', 'meaningful', 'marketing', 'solutions', ',', 'supporting', 'documents', ',', 'visual', 'representation', 'data', 'findingsmanages', 'deadlines', 'expectations', 'projects', 'regular', 'communicationlead', 'data', 'cleaning', ',', 'standardization', ',', 'governance', ',', 'best', 'practicestext', 'mining', 'identify', 'patterns', 'qualitative', 'data', 'sets', ',', 'finding', 'early', 'warning', 'indicators', 'product', 'development', 'shifts', 'customer', 'sentimentbuild', 'predictive', 'models', 'using', 'multiple', 'types', 'sources', 'datagather', '&', 'test', 'accuracy', 'model', 'datapost-hoc', 'testsexplore', 'new', 'under-utilized', 'functionality', 'within', 'existing', 'data', 'analytics', 'tools', 'streamline', 'consumption', 'distribution', 'reporting', 'datadevelop', 'q/a', 'phases', 'project', 'lifecycleskills', ':', 'knowledge', 'using', 'statistical', 'software', '(', 'r', ',', 'python', ',', 'etc', '.', ')', 'advanced', 'microsoft', 'office', '(', 'excel', ',', 'ppt', ',', 'word', ')', 'advanced', 'data', 'visualization', 'techniquesjob', 'type', ':', 'full-timepay', ':', '$', '40,000.00', '-', '$', '45,000.00', 'per', 'yearbenefits:401', '(', 'k', ')', 'dental', 'insurancehealth', 'insurancelife', 'insurancepaid', 'time', 'offvision', 'insuranceschedule:8', 'hour', 'shiftmonday', 'fridaysupplemental', 'pay', ':', 'commission', 'paycovid-19', 'considerations', ':', 'noapplication', 'question', '(', ')', ':', 'experience', 'powerbi', '?', 'education', ':', 'bachelor', \"'s\", '(', 'preferred', ')', 'experience', ':', 'business', 'analysis', ':', '1', 'year', '(', 'preferred', ')', 'work', 'location', ':', 'remote']\n"
     ]
    }
   ],
   "source": [
    "#Remove stopwords\n",
    "stop_words = set(stopwords.words('english'))\n",
    "\n",
    "word_tokens = word_tokenize(single_job)\n",
    "\n",
    "filtered_sentence = [w for w in word_tokens if not w.lower() in stop_words]\n",
    "\n",
    "#print(words_tokens)\n",
    "print(filtered_sentence)"
   ]
  },
  {
   "cell_type": "code",
   "execution_count": null,
   "metadata": {},
   "outputs": [],
   "source": []
  }
 ],
 "metadata": {
  "interpreter": {
   "hash": "54d617d372647ec335822863022694f50128820a9b9ee7841e3eee76c2b8638a"
  },
  "kernelspec": {
   "display_name": "Python 3.6.10 64-bit ('Project8': conda)",
   "language": "python",
   "name": "python3"
  },
  "language_info": {
   "codemirror_mode": {
    "name": "ipython",
    "version": 3
   },
   "file_extension": ".py",
   "mimetype": "text/x-python",
   "name": "python",
   "nbconvert_exporter": "python",
   "pygments_lexer": "ipython3",
   "version": "3.6.10"
  },
  "orig_nbformat": 4
 },
 "nbformat": 4,
 "nbformat_minor": 2
}
