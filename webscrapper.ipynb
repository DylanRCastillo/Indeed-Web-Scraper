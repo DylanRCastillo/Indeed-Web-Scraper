{
 "cells": [
  {
   "cell_type": "code",
   "execution_count": 49,
   "metadata": {},
   "outputs": [],
   "source": [
    "import requests\n",
    "from bs4 import BeautifulSoup\n",
    "import pandas as pd\n",
    "import datetime\n",
    "import csv"
   ]
  },
  {
   "cell_type": "markdown",
   "metadata": {},
   "source": [
    "#### Extract, Transform, and Load"
   ]
  },
  {
   "cell_type": "code",
   "execution_count": 50,
   "metadata": {},
   "outputs": [],
   "source": [
    "#Extracts soups from indeed's multiple job listing pages and saves soup to info_extracted\n",
    "def extract(page):\n",
    "    \n",
    "    headers = {'User-Agent':'Mozilla/5.0 (Windows NT 10.0; Win64; x64) AppleWebKit/537.36 (KHTML, like Gecko) Chrome/97.0.4692.71 Safari/537.36'}\n",
    "    if page == 0:\n",
    "        url = 'https://www.indeed.com/jobs?q=data+analyst&jt=fulltime&explvl=entry_level&fromage=7'\n",
    "    else:\n",
    "        url = f'https://www.indeed.com/jobs?q=data+analyst&jt=fulltime&explvl=entry_level&fromage=7&start={page}'\n",
    "    \n",
    "    response = requests.get(url,headers)\n",
    "    soup = BeautifulSoup(response.content, 'html.parser')\n",
    "\n",
    "    return soup\n",
    "\n",
    "#Parses all 15 hrefs from each soups from 'extract' function and appends to href_list\n",
    "def transform(soup_extracted):\n",
    "    \n",
    "    divs = soup.find_all('div', class_='mosaic-zone', id=\"mosaic-zone-jobcards\")\n",
    "    for item in divs:\n",
    "        urls = item.find_all('a', id=True, class_=True, href=True)\n",
    "        for href in urls:\n",
    "            href_list.append(href['href'])\n",
    "    return\n",
    "\n",
    "#Parses out soup from job listing for each href and appends to soup_list\n",
    "def extract_expand(href_list):\n",
    "    \n",
    "    headers = {'User-Agent':'Mozilla/5.0 (Windows NT 10.0; Win64; x64) AppleWebKit/537.36 (KHTML, like Gecko) Chrome/97.0.4692.71 Safari/537.36'}\n",
    "    \n",
    "    for href_item in href_list:\n",
    "        url = f'https://www.indeed.com{href_item}'\n",
    "        response = requests.get(url,headers)\n",
    "        soup = BeautifulSoup(response.content, 'html.parser')\n",
    "        soup_list.append(soup)\n",
    "    return\n",
    "\n",
    "\n",
    "def transform_expand(soup, href):\n",
    "    '''This one should be called in the extract_expand func'''\n",
    "    divs = soup.find_all('div', class_='icl-Container--fluid fs-unmask jobsearch-ViewJobLayout-fluidContainer is-US icl-u-xs-p--sm')\n",
    "    date = datetime.datetime.now()\n",
    "    date = int(date.strftime('%Y%m%d'))\n",
    "    \n",
    "    for item in divs:\n",
    "        title = item.find('h1').text\n",
    "        company = item.find('div', class_='icl-u-lg-mr--sm icl-u-xs-mr--xs').text\n",
    "        job_description = item.find('div', id='jobDescriptionText', class_='jobsearch-jobDescriptionText')\n",
    "\n",
    "        p_list = []\n",
    "        li_list = []\n",
    "\n",
    "        for p_tags in job_description.find_all('p'):\n",
    "            p_list.append(p_tags.text.replace('\\n', ' '))\n",
    "        for li_tags in job_description.find_all('li'):\n",
    "            li_list.append(li_tags.text.replace('\\n', ' '))\n",
    "\n",
    "        p_li_list = p_list + li_list\n",
    "        description = ' '.join(map(str, p_li_list))\n",
    "        website = 'www.indeed.com' + href\n",
    "\n",
    "        job = {\n",
    "            'job_title' : title,\n",
    "            'company' : company,\n",
    "            'job_description' : description,\n",
    "            'website' : website,\n",
    "            'date_scraped' : date\n",
    "\n",
    "        }\n",
    "        job_list.append(job)\n",
    "    return"
   ]
  },
  {
   "cell_type": "markdown",
   "metadata": {},
   "source": [
    "#### Reading or Creating a New DataFrame"
   ]
  },
  {
   "cell_type": "code",
   "execution_count": 51,
   "metadata": {},
   "outputs": [],
   "source": [
    "#Reading from filepath but if no file then creating a dataframe object\n",
    "try:\n",
    "    filepath = 'Resources/indeed_jobs.csv'\n",
    "    df = pd.read_csv(filepath).drop('Unnamed: 0', axis=1)\n",
    "except:\n",
    "    df = pd.DataFrame()"
   ]
  },
  {
   "cell_type": "markdown",
   "metadata": {},
   "source": [
    "#### Webscrapping"
   ]
  },
  {
   "cell_type": "code",
   "execution_count": 52,
   "metadata": {},
   "outputs": [],
   "source": [
    "# For loop to extract url_hrefs, soups, and job listings from each page(i) to append to 'df'\n",
    "for page in range (0,40,10):\n",
    "    href_list = []\n",
    "    soup_list = []\n",
    "    job_list = []\n",
    "\n",
    "    #href counter to reset for each new soup sparsed\n",
    "    a = 0\n",
    "\n",
    "    soup_extracted = extract(page)\n",
    "    transform(soup_extracted)\n",
    "    extract_expand(href_list)\n",
    "\n",
    "    for soup in soup_list:\n",
    "        transform_expand(soup, href_list[a])\n",
    "        df = df.append(job_list, ignore_index=True)\n",
    "        a += 1\n",
    "        df"
   ]
  },
  {
   "cell_type": "code",
   "execution_count": 54,
   "metadata": {},
   "outputs": [],
   "source": [
    "#Removing duplicate listings and fixing index\n",
    "df_nodups = df.drop_duplicates(subset=['job_title', 'company', 'job_description'], keep='last')\n",
    "df_indexfixed = df_nodups.reset_index(drop=True)"
   ]
  },
  {
   "cell_type": "code",
   "execution_count": 58,
   "metadata": {},
   "outputs": [],
   "source": [
    "#Append or Create a new CSV using df_indexfixed\n",
    "df_indexfixed.to_csv('indeed_jobs.csv', mode='a', header=False)"
   ]
  },
  {
   "cell_type": "code",
   "execution_count": null,
   "metadata": {},
   "outputs": [],
   "source": []
  }
 ],
 "metadata": {
  "interpreter": {
   "hash": "54d617d372647ec335822863022694f50128820a9b9ee7841e3eee76c2b8638a"
  },
  "kernelspec": {
   "display_name": "Python 3.6.10 64-bit ('Project8': conda)",
   "language": "python",
   "name": "python3"
  },
  "language_info": {
   "codemirror_mode": {
    "name": "ipython",
    "version": 3
   },
   "file_extension": ".py",
   "mimetype": "text/x-python",
   "name": "python",
   "nbconvert_exporter": "python",
   "pygments_lexer": "ipython3",
   "version": "3.6.10"
  },
  "orig_nbformat": 4
 },
 "nbformat": 4,
 "nbformat_minor": 2
}
